{
 "cells": [
  {
   "cell_type": "markdown",
   "metadata": {},
   "source": [
    "# CITS3401 Project 2 Report\n",
    "## Eddie Atkinson (22487668)"
   ]
  },
  {
   "cell_type": "markdown",
   "metadata": {},
   "source": [
    "## Introduction\n",
    "The purpose of the previous exercise was to produce clean, aggregated data and load it into a database where it could be efficiently queried, manipulated and visualised. This component of the project is focused on analysing that data to discover useful and previous unknown trends and patterns using a variety of techniques, including association rule mining, classifcation, numerosity reduction, and machine learning."
   ]
  },
  {
   "cell_type": "markdown",
   "metadata": {},
   "source": [
    "## Initial Data Cleaning\n",
    "Data is stored in the database in normalised tables as part of its snowflake schema. In order to perform analytics on the data it is necessary to denormalise the data, remerging it into a central dataframe. The data used for this analysis is contained in the CSV files that were used to load the data in to database in the first place, however it is easy to imagine a situation where data would be exported in bulk from MSSQL to CSVs using the export wizard.   \n",
    "\n",
    "To start the data must be loaded into dataframes, remembering that the \"~\" separator was used on the data for ease of use in the SQL loading scripts:"
   ]
  },
  {
   "cell_type": "code",
   "execution_count": 23,
   "metadata": {},
   "outputs": [
    {
     "name": "stdout",
     "output_type": "stream",
     "text": [
      "   person_id  capital_gain  capital_loss  hours_pw\n",
      "0          0          2174             0        40\n",
      "1          1             0             0        38\n",
      "2          2             0             0        65\n",
      "3          3             0             0        37\n",
      "4          4             0             0        40\n",
      "   person_id  race_id  country_id  work_id  education_id  relationship_id  \\\n",
      "0          0        0           0        0             0                0   \n",
      "1          1        0           0        0             0                0   \n",
      "2          2        0           0        0             0                0   \n",
      "3          3        0           0        0             0                0   \n",
      "4          4        0           0        0             0                0   \n",
      "\n",
      "  gender income_bracket  age  \n",
      "0      M          <=50K   39  \n",
      "1      M          <=50K   37  \n",
      "2      F          <=50K   24  \n",
      "3      M          <=50K   32  \n",
      "4      M          <=50K   44  \n"
     ]
    }
   ],
   "source": [
    "import pandas as pd\n",
    "\n",
    "dim_country = pd.read_csv(\"data/dim_country.csv\", sep=\"~\")\n",
    "dim_education = pd.read_csv(\"data/dim_education.csv\", sep=\"~\")\n",
    "dim_person = pd.read_csv(\"data/dim_person.csv\", sep=\"~\")\n",
    "dim_race = pd.read_csv(\"data/dim_race.csv\", sep=\"~\")\n",
    "dim_relationship = pd.read_csv(\"data/dim_relationship.csv\", sep=\"~\")\n",
    "dim_work = pd.read_csv(\"data/dim_work.csv\", sep=\"~\")\n",
    "fact_income = pd.read_csv(\"data/fact_income.csv\", sep=\"~\")\n",
    "\n",
    "# Have a look at some of the dataframes to check the reading was successful\n",
    "print(fact_income.head())\n",
    "print(dim_person.head())"
   ]
  },
  {
   "cell_type": "markdown",
   "metadata": {},
   "source": [
    "To demerge the data a central dataframe is incrementally constructed by merging the dataframes on their ID columns and then removing the ID columns from the data set. We'll start by constructing the central dataframe by merging ```dim_person``` with ```fact_income```. "
   ]
  },
  {
   "cell_type": "code",
   "execution_count": 24,
   "metadata": {},
   "outputs": [
    {
     "name": "stdout",
     "output_type": "stream",
     "text": [
      "   capital_gain  capital_loss  hours_pw  race_id  country_id  work_id  \\\n",
      "0          2174             0        40        0           0        0   \n",
      "1             0             0        38        0           0        0   \n",
      "2             0             0        65        0           0        0   \n",
      "3             0             0        37        0           0        0   \n",
      "4             0             0        40        0           0        0   \n",
      "\n",
      "   education_id  relationship_id gender income_bracket  age  \n",
      "0             0                0      M          <=50K   39  \n",
      "1             0                0      M          <=50K   37  \n",
      "2             0                0      F          <=50K   24  \n",
      "3             0                0      M          <=50K   32  \n",
      "4             0                0      M          <=50K   44  \n"
     ]
    }
   ],
   "source": [
    "central_df = fact_income\n",
    "central_df = central_df.merge(dim_person, on=[\"person_id\"], how=\"left\")\n",
    "# Drop the person ID, it is no longer needed\n",
    "central_df.drop([\"person_id\"], axis=1, inplace=True)\n",
    "# Have a look at the dataframe to check all went well\n",
    "print(central_df.head())"
   ]
  },
  {
   "cell_type": "markdown",
   "metadata": {},
   "source": [
    "Now that central, remerged dataframe has been created, the rest of the dimensions can be merged into it folllowing the same pattern of merging based on IDs followed by ID deletion."
   ]
  },
  {
   "cell_type": "code",
   "execution_count": 25,
   "metadata": {},
   "outputs": [
    {
     "name": "stdout",
     "output_type": "stream",
     "text": [
      "   capital_gain  capital_loss  hours_pw gender income_bracket  age  \\\n",
      "0          2174             0        40      M          <=50K   39   \n",
      "1             0             0        38      M          <=50K   37   \n",
      "2             0             0        65      F          <=50K   24   \n",
      "3             0             0        37      M          <=50K   32   \n",
      "4             0             0        40      M          <=50K   44   \n",
      "\n",
      "    country_name  education ethnicity relationship_role marital_relationship  \\\n",
      "0  United-States  Bachelors     White     Not-in-family        Never-married   \n",
      "1  United-States  Bachelors     White     Not-in-family        Never-married   \n",
      "2  United-States  Bachelors     White     Not-in-family        Never-married   \n",
      "3  United-States  Bachelors     White     Not-in-family        Never-married   \n",
      "4  United-States  Bachelors     White     Not-in-family        Never-married   \n",
      "\n",
      "  marriage_status work_class    occupation  \n",
      "0     Not Married  State-gov  Adm-clerical  \n",
      "1     Not Married  State-gov  Adm-clerical  \n",
      "2     Not Married  State-gov  Adm-clerical  \n",
      "3     Not Married  State-gov  Adm-clerical  \n",
      "4     Not Married  State-gov  Adm-clerical  \n"
     ]
    }
   ],
   "source": [
    "# Process dim_country\n",
    "central_df = central_df.merge(dim_country, on=[\"country_id\"], how=\"left\")\n",
    "# Delete country ID\n",
    "central_df.drop([\"country_id\"], axis=1, inplace=True)\n",
    "\n",
    "# Process dim_education\n",
    "central_df = central_df.merge(dim_education, on=[\"education_id\"], how=\"left\")\n",
    "# Delete education ID\n",
    "central_df.drop([\"education_id\"], axis=1, inplace=True)\n",
    "\n",
    "# Process dim_race\n",
    "central_df = central_df.merge(dim_race, on=[\"race_id\"], how=\"left\")\n",
    "central_df.drop([\"race_id\"], axis=1, inplace=True)\n",
    "\n",
    "# Process dim_relationship\n",
    "central_df = central_df.merge(dim_relationship, on=[\"relationship_id\"], how=\"left\")\n",
    "central_df.drop([\"relationship_id\"], axis=1, inplace=True)\n",
    "\n",
    "# Process dim_work\n",
    "central_df = central_df.merge(dim_work, on=[\"work_id\"], how=\"left\")\n",
    "central_df.drop([\"work_id\"], axis=1, inplace=True)\n",
    "\n",
    "# Take a final peek at the dataset to check that it's correct\n",
    "print(central_df.head())"
   ]
  },
  {
   "cell_type": "markdown",
   "metadata": {},
   "source": [
    "Now that the data has been remerged we can perform analytics. Let's start with association rule mining. "
   ]
  },
  {
   "cell_type": "markdown",
   "metadata": {},
   "source": [
    "## Assocation Rule Mining\n",
    "\n",
    "Association rule mining is concerned with finding frequent itemsets. Association rule mining could be helpful in the context of this dataset for finding out which characteristics are associated with being in a higher income bracket, so that people wishing to increase their income can make data-driven decisions about how to do so. \n",
    "\n",
    "Whether an itemset is considered frequent is determined by its support - its relative frequency in the dataset. The minimum support required for an itemset to be considered frequent is highly problem and dataset specific, and so will need to be tuned as part of the analysis to discover meaningful results. \n",
    "\n",
    "However, it is not only the frequency of itemsets that is of interest for association rule mining, but also the interaction between itemsets in the data set. The interactions of itemsets are measured with two metrics - confidence and lift. Confidence measures the conditional probability of an itemset containing a particular item or parameter, given that another item or parameter is contained in the itemset. Lift measures the degree to which the presence of a particular item in an itemset increases the occurrence of another, taking into account the popularity of both items in the dataset. Lift is a better measure than confidence as confidence can reveal associations that exist only due to the popularity of one item in the itemset. Lift values greater than 1 indicate that there is a positive association between the items being compared, a lift value of 1 indicates that there is no association and a lift value below 1 indicates a negative association between the two items. \n",
    "\n",
    "The aim of this analysis is to uncover association rules between particular characteristics and income status, >=50K or <=50K using lift as a metric or if necessary, confidence."
   ]
  },
  {
   "cell_type": "markdown",
   "metadata": {},
   "source": [
    "To mine the association rules the ```mlxtend``` library will be used, if it is not installed on your system, uncomment the command below and run it to install it."
   ]
  },
  {
   "cell_type": "code",
   "execution_count": 26,
   "metadata": {},
   "outputs": [],
   "source": [
    "#import sys\n",
    "# !{sys.executable} -m pip install mlxtend "
   ]
  },
  {
   "cell_type": "markdown",
   "metadata": {},
   "source": [
    "Before we can use the ```mlxtend``` library to mine association rules the continuous variables in the dataset must be discretised, and then all categorical variables must be converted to binary variables.  "
   ]
  },
  {
   "cell_type": "code",
   "execution_count": 27,
   "metadata": {},
   "outputs": [
    {
     "name": "stdout",
     "output_type": "stream",
     "text": [
      "capital_gain             int64\n",
      "capital_loss             int64\n",
      "hours_pw                 int64\n",
      "gender                  object\n",
      "income_bracket          object\n",
      "age                      int64\n",
      "country_name            object\n",
      "education               object\n",
      "ethnicity               object\n",
      "relationship_role       object\n",
      "marital_relationship    object\n",
      "marriage_status         object\n",
      "work_class              object\n",
      "occupation              object\n",
      "dtype: object\n"
     ]
    }
   ],
   "source": [
    "discrete_df = central_df\n",
    "# Find the columns that require discretising\n",
    "print(discrete_df.dtypes)"
   ]
  },
  {
   "cell_type": "markdown",
   "metadata": {},
   "source": [
    "The attributes that need to be discretised are:\n",
    "* Age\n",
    "* Hours worked per week\n",
    "* Capital Gain\n",
    "* Capital Loss\n",
    "\n",
    "In order to discretise them sensibly let's take a look at their plots."
   ]
  },
  {
   "cell_type": "code",
   "execution_count": 28,
   "metadata": {},
   "outputs": [
    {
     "data": {
      "image/png": "[encoded data removed]",
      "text/plain": [
       "<Figure size 1080x720 with 4 Axes>"
      ]
     },
     "metadata": {},
     "output_type": "display_data"
    }
   ],
   "source": [
    "import matplotlib.pyplot as plt\n",
    "# Matplot lib is pretty ugly, so use ggplot styling\n",
    "plt.style.use(\"ggplot\")\n",
    "# Create subplot with two rows and columns with a larger plot size for ease of comparison\n",
    "fig, axs = plt.subplots(2,2, figsize = (15, 10))\n",
    "# Spaces the plots out so the titles don't overlap\n",
    "fig.tight_layout()\n",
    "\n",
    "# Plot age\n",
    "axs[0, 0].set_title(\"Age\")\n",
    "axs[0, 0].hist(discrete_df[\"age\"])\n",
    "\n",
    "# Plot Hours per week\n",
    "axs[0, 1].set_title(\"Hours Per Week\")\n",
    "axs[0, 1].hist(discrete_df[\"hours_pw\"])\n",
    "\n",
    "# Plot capital gains\n",
    "axs[1, 0].set_title(\"Capital Gains\")\n",
    "axs[1, 0].hist(discrete_df[\"capital_gain\"])\n",
    "\n",
    "# Plot capital losses\n",
    "axs[1, 1].set_title(\"Capital Losses\")\n",
    "axs[1, 1].hist(discrete_df[\"capital_loss\"])\n",
    "\n",
    "plt.show()\n"
   ]
  },
  {
   "cell_type": "markdown",
   "metadata": {},
   "source": [
    "Looking at the histograms the following discretisation schemes appear logical and easily interpretable:\n",
    "\n",
    "- Age: Divide age into bins of size 10 with a maximum of 100.\n",
    "- Hours worked per week: Divide hours worked per week into bins of size 10, with a maximum of 100.\n",
    "- Capital gains: Divide capital gains into bins of size 10,000 with a maximum of 100,000.\n",
    "- Capital losses: Divide capital losses into bins of size 1,000 with a maximum of 5,000."
   ]
  },
  {
   "cell_type": "code",
   "execution_count": 29,
   "metadata": {},
   "outputs": [
    {
     "name": "stdout",
     "output_type": "stream",
     "text": [
      "   capital_gain_0-9K  capital_gain_10-19K  capital_gain_20-29K  \\\n",
      "0                  1                    0                    0   \n",
      "1                  1                    0                    0   \n",
      "2                  1                    0                    0   \n",
      "3                  1                    0                    0   \n",
      "4                  1                    0                    0   \n",
      "\n",
      "   capital_gain_30-39K  capital_gain_40-49K  capital_gain_90-99K  \\\n",
      "0                    0                    0                    0   \n",
      "1                    0                    0                    0   \n",
      "2                    0                    0                    0   \n",
      "3                    0                    0                    0   \n",
      "4                    0                    0                    0   \n",
      "\n",
      "   capital_loss_0-1K  capital_loss_1-2K  capital_loss_2-3K  capital_loss_3-4K  \\\n",
      "0                  1                  0                  0                  0   \n",
      "1                  1                  0                  0                  0   \n",
      "2                  1                  0                  0                  0   \n",
      "3                  1                  0                  0                  0   \n",
      "4                  1                  0                  0                  0   \n",
      "\n",
      "   ...  occupation_Farming-fishing  occupation_Handlers-cleaners  \\\n",
      "0  ...                           0                             0   \n",
      "1  ...                           0                             0   \n",
      "2  ...                           0                             0   \n",
      "3  ...                           0                             0   \n",
      "4  ...                           0                             0   \n",
      "\n",
      "   occupation_Machine-op-inspct  occupation_Other-service  \\\n",
      "0                             0                         0   \n",
      "1                             0                         0   \n",
      "2                             0                         0   \n",
      "3                             0                         0   \n",
      "4                             0                         0   \n",
      "\n",
      "   occupation_Priv-house-serv  occupation_Prof-specialty  \\\n",
      "0                           0                          0   \n",
      "1                           0                          0   \n",
      "2                           0                          0   \n",
      "3                           0                          0   \n",
      "4                           0                          0   \n",
      "\n",
      "   occupation_Protective-serv  occupation_Sales  occupation_Tech-support  \\\n",
      "0                           0                 0                        0   \n",
      "1                           0                 0                        0   \n",
      "2                           0                 0                        0   \n",
      "3                           0                 0                        0   \n",
      "4                           0                 0                        0   \n",
      "\n",
      "   occupation_Transport-moving  \n",
      "0                            0  \n",
      "1                            0  \n",
      "2                            0  \n",
      "3                            0  \n",
      "4                            0  \n",
      "\n",
      "[5 rows x 136 columns]\n"
     ]
    }
   ],
   "source": [
    "from discretise import discretise_age\n",
    "from discretise import discretise_hours\n",
    "from discretise import discretise_cap_gains\n",
    "from discretise import discretise_cap_loss\n",
    "\n",
    "\n",
    "discrete_df[\"age\"] = discrete_df[\"age\"].apply(lambda x: discretise_age(x))\n",
    "discrete_df[\"hours_pw\"] = discrete_df[\"hours_pw\"].apply(lambda x: discretise_hours(x))\n",
    "discrete_df[\"capital_gain\"] = discrete_df[\"capital_gain\"].apply(lambda x: discretise_cap_gains(x))\n",
    "discrete_df[\"capital_loss\"] = discrete_df[\"capital_loss\"].apply(lambda x: discretise_cap_loss(x))\n",
    "\n",
    "dummy_df = pd.get_dummies(discrete_df)\n",
    "print(dummy_df.head())"
   ]
  },
  {
   "cell_type": "markdown",
   "metadata": {},
   "source": [
    "Now that the data is in the correct format we can perform apriori pruning to find the association rules. It was found by experimentation that the maximum value for ```min_support``` that produced useful rules lay between 0.18 and 0.19, reducing the ```min_support``` below 0.18 results in highly convoluted rules that provide little insight. The metric used is lift as we are looking for characteristics associated with a higher income, and we are looking for a positive association so the ```min_threshold``` value is set to ```1.0```.  "
   ]
  },
  {
   "cell_type": "code",
   "execution_count": 33,
   "metadata": {},
   "outputs": [
    {
     "name": "stdout",
     "output_type": "stream",
     "text": [
      "              antecedents          consequents  antecedent support  \\\n",
      "0        (hours_pw_40-49)  (capital_gain_0-9K)            0.563128   \n",
      "1     (capital_gain_0-9K)     (hours_pw_40-49)            0.976352   \n",
      "2              (gender_F)  (capital_gain_0-9K)            0.330795   \n",
      "3     (capital_gain_0-9K)           (gender_F)            0.976352   \n",
      "4  (income_bracket_<=50K)  (capital_gain_0-9K)            0.759190   \n",
      "\n",
      "   consequent support   support  confidence      lift  leverage  conviction  \n",
      "0            0.976352  0.553515    0.982930  1.006737  0.003704    1.385330  \n",
      "1            0.563128  0.553515    0.566921  1.006737  0.003704    1.008760  \n",
      "2            0.976352  0.326464    0.986909  1.010813  0.003492    1.806466  \n",
      "3            0.330795  0.326464    0.334371  1.010813  0.003492    1.005374  \n",
      "4            0.976352  0.758760    0.999434  1.023641  0.017523   41.755474  \n"
     ]
    }
   ],
   "source": [
    "from mlxtend.frequent_patterns import apriori\n",
    "from mlxtend.frequent_patterns import association_rules\n",
    "\n",
    "frequent_itemsets = apriori(dummy_df, min_support=0.185, use_colnames=True) \n",
    "rules = association_rules(frequent_itemsets, metric=\"lift\", min_threshold=1.0)\n",
    "print(rules.head())"
   ]
  },
  {
   "cell_type": "markdown",
   "metadata": {},
   "source": [
    "We are only interested in the rules in which having an income larger than \\$50,000 is the rule's consequent, or the outcome of the rule, so we will filter the rules to include only those where having an income greater than \\$50,000 is the only outcome."
   ]
  },
  {
   "cell_type": "code",
   "execution_count": 34,
   "metadata": {},
   "outputs": [
    {
     "name": "stdout",
     "output_type": "stream",
     "text": [
      "23\n"
     ]
    }
   ],
   "source": [
    "def row_filter(x):\n",
    "    if \"income_bracket_>50K\" in x[\"consequents\"] and len(x[\"consequents\"]) == 1:\n",
    "        return True\n",
    "    return False\n",
    "\n",
    "# Add a column indicating whether the consequents only contain income >=50K\n",
    "rules[\"income_row\"] = rules.apply(lambda x: row_filter(x), axis=1)\n",
    "rules = rules[rules[\"income_row\"] == True]\n",
    "rules = rules.sort_values(by=[\"lift\", \"support\", \"confidence\"], ascending=False)\n",
    "print(len(rules))"
   ]
  },
  {
   "cell_type": "markdown",
   "metadata": {},
   "source": [
    "Now that we have a reasonable number of association rules to examine, let's print them in a readable format and interpet them."
   ]
  },
  {
   "cell_type": "code",
   "execution_count": 36,
   "metadata": {},
   "outputs": [
    {
     "name": "stdout",
     "output_type": "stream",
     "text": [
      "country_name_United-States,marital_relationship_Married-civ-spouse -> income_bracket_>50K\n",
      "country_name_United-States,marital_relationship_Married-civ-spouse,marriage_status_Married -> income_bracket_>50K\n",
      "marital_relationship_Married-civ-spouse,ethnicity_White -> income_bracket_>50K\n",
      "marriage_status_Married,marital_relationship_Married-civ-spouse,ethnicity_White -> income_bracket_>50K\n",
      "country_name_United-States,marriage_status_Married -> income_bracket_>50K\n",
      "marriage_status_Married,ethnicity_White -> income_bracket_>50K\n",
      "marital_relationship_Married-civ-spouse -> income_bracket_>50K\n",
      "marriage_status_Married,marital_relationship_Married-civ-spouse -> income_bracket_>50K\n",
      "marriage_status_Married -> income_bracket_>50K\n",
      "marital_relationship_Married-civ-spouse,capital_gain_0-9K -> income_bracket_>50K\n",
      "marriage_status_Married,marital_relationship_Married-civ-spouse,capital_gain_0-9K -> income_bracket_>50K\n",
      "marriage_status_Married,capital_loss_0-1K -> income_bracket_>50K\n",
      "marriage_status_Married,capital_gain_0-9K -> income_bracket_>50K\n",
      "gender_M,ethnicity_White -> income_bracket_>50K\n",
      "country_name_United-States,gender_M -> income_bracket_>50K\n",
      "gender_M -> income_bracket_>50K\n",
      "gender_M,capital_gain_0-9K -> income_bracket_>50K\n",
      "country_name_United-States,ethnicity_White -> income_bracket_>50K\n",
      "ethnicity_White -> income_bracket_>50K\n",
      "country_name_United-States,capital_loss_0-1K,ethnicity_White -> income_bracket_>50K\n",
      "country_name_United-States -> income_bracket_>50K\n",
      "country_name_United-States,capital_gain_0-9K,ethnicity_White -> income_bracket_>50K\n",
      "capital_loss_0-1K,ethnicity_White -> income_bracket_>50K\n"
     ]
    },
    {
     "data": {
      "text/plain": [
       "1206    None\n",
       "5676    None\n",
       "1218    None\n",
       "5690    None\n",
       "1212    None\n",
       "1224    None\n",
       "94      None\n",
       "1230    None\n",
       "96      None\n",
       "366     None\n",
       "2996    None\n",
       "664     None\n",
       "370     None\n",
       "990     None\n",
       "984     None\n",
       "64      None\n",
       "282     None\n",
       "1200    None\n",
       "92      None\n",
       "4240    None\n",
       "90      None\n",
       "2986    None\n",
       "660     None\n",
       "dtype: object"
      ]
     },
     "execution_count": 36,
     "metadata": {},
     "output_type": "execute_result"
    }
   ],
   "source": [
    "from apriori import print_rules\n",
    "print_rules(rules)"
   ]
  },
  {
   "cell_type": "code",
   "execution_count": null,
   "metadata": {},
   "outputs": [],
   "source": []
  }
 ],
 "metadata": {
  "kernelspec": {
   "display_name": "Python 3",
   "language": "python",
   "name": "python3"
  },
  "language_info": {
   "codemirror_mode": {
    "name": "ipython",
    "version": 3
   },
   "file_extension": ".py",
   "mimetype": "text/x-python",
   "name": "python",
   "nbconvert_exporter": "python",
   "pygments_lexer": "ipython3",
   "version": "3.6.9"
  }
 },
 "nbformat": 4,
 "nbformat_minor": 2
}
