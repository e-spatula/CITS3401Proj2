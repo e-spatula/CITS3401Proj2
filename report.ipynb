{
 "cells": [
  {
   "cell_type": "markdown",
   "metadata": {},
   "source": [
    "# CITS3401 Project 2 Report\n",
    "## Eddie Atkinson (22487668)"
   ]
  },
  {
   "cell_type": "markdown",
   "metadata": {},
   "source": [
    "## Introduction\n",
    "The purpose of the previous exercise was to produce clean, aggregated data and load it into a database where it could be efficiently queried, manipulated and visualised. This component of the project is focused on analysing that data to discover useful and previous unknown trends and patterns using a variety of techniques, including association rule mining, classification, numerosity reduction, and machine learning."
   ]
  },
  {
   "cell_type": "markdown",
   "metadata": {},
   "source": [
    "## Initial Data Cleaning\n",
    "Data is stored in the database in normalised tables as part of its snowflake schema. In order to perform analytics on the data it is necessary to denormalise the data, remerging it into a central dataframe. The data used for this analysis is contained in the CSV files that were used to load the data in to database in the first place, however it is easy to imagine a situation where data would be exported in bulk from MSSQL to CSVs using the export wizard.   \n",
    "\n",
    "To start the data must be loaded into dataframes, remembering that the \"~\" separator was used on the data for ease of use in the SQL loading scripts:"
   ]
  },
  {
   "cell_type": "code",
   "execution_count": 150,
   "metadata": {},
   "outputs": [
    {
     "name": "stdout",
     "output_type": "stream",
     "text": [
      "   person_id  capital_gain  capital_loss  hours_pw\n",
      "0          0          2174             0        40\n",
      "1          1             0             0        38\n",
      "2          2             0             0        65\n",
      "3          3             0             0        37\n",
      "4          4             0             0        40\n",
      "   person_id  race_id  country_id  work_id  education_id  relationship_id  \\\n",
      "0          0        0           0        0             0                0   \n",
      "1          1        0           0        0             0                0   \n",
      "2          2        0           0        0             0                0   \n",
      "3          3        0           0        0             0                0   \n",
      "4          4        0           0        0             0                0   \n",
      "\n",
      "  gender income_bracket  age  \n",
      "0      M          <=50K   39  \n",
      "1      M          <=50K   37  \n",
      "2      F          <=50K   24  \n",
      "3      M          <=50K   32  \n",
      "4      M          <=50K   44  \n"
     ]
    }
   ],
   "source": [
    "import pandas as pd\n",
    "\n",
    "dim_country = pd.read_csv(\"data/dim_country.csv\", sep=\"~\")\n",
    "dim_education = pd.read_csv(\"data/dim_education.csv\", sep=\"~\")\n",
    "dim_person = pd.read_csv(\"data/dim_person.csv\", sep=\"~\")\n",
    "dim_race = pd.read_csv(\"data/dim_race.csv\", sep=\"~\")\n",
    "dim_relationship = pd.read_csv(\"data/dim_relationship.csv\", sep=\"~\")\n",
    "dim_work = pd.read_csv(\"data/dim_work.csv\", sep=\"~\")\n",
    "fact_income = pd.read_csv(\"data/fact_income.csv\", sep=\"~\")\n",
    "\n",
    "# Have a look at some of the dataframes to check the reading was successful\n",
    "print(fact_income.head())\n",
    "print(dim_person.head())"
   ]
  },
  {
   "cell_type": "markdown",
   "metadata": {},
   "source": [
    "To demerge the data a central dataframe is incrementally constructed by merging the dataframes on their ID columns and then removing the ID columns from the data set. We'll start by constructing the central dataframe by merging ```dim_person``` with ```fact_income```. "
   ]
  },
  {
   "cell_type": "code",
   "execution_count": 151,
   "metadata": {},
   "outputs": [
    {
     "name": "stdout",
     "output_type": "stream",
     "text": [
      "   capital_gain  capital_loss  hours_pw  race_id  country_id  work_id  \\\n",
      "0          2174             0        40        0           0        0   \n",
      "1             0             0        38        0           0        0   \n",
      "2             0             0        65        0           0        0   \n",
      "3             0             0        37        0           0        0   \n",
      "4             0             0        40        0           0        0   \n",
      "\n",
      "   education_id  relationship_id gender income_bracket  age  \n",
      "0             0                0      M          <=50K   39  \n",
      "1             0                0      M          <=50K   37  \n",
      "2             0                0      F          <=50K   24  \n",
      "3             0                0      M          <=50K   32  \n",
      "4             0                0      M          <=50K   44  \n"
     ]
    }
   ],
   "source": [
    "central_df = fact_income\n",
    "central_df = central_df.merge(dim_person, on=[\"person_id\"], how=\"left\")\n",
    "# Drop the person ID, it is no longer needed\n",
    "central_df.drop([\"person_id\"], axis=1, inplace=True)\n",
    "# Have a look at the dataframe to check all went well\n",
    "print(central_df.head())"
   ]
  },
  {
   "cell_type": "markdown",
   "metadata": {},
   "source": [
    "Now that the central, remerged dataframe has been created, the rest of the dimensions can be merged into it following the same pattern of merging based on IDs followed by ID deletion."
   ]
  },
  {
   "cell_type": "code",
   "execution_count": 152,
   "metadata": {},
   "outputs": [
    {
     "name": "stdout",
     "output_type": "stream",
     "text": [
      "   capital_gain  capital_loss  hours_pw gender income_bracket  age  \\\n",
      "0          2174             0        40      M          <=50K   39   \n",
      "1             0             0        38      M          <=50K   37   \n",
      "2             0             0        65      F          <=50K   24   \n",
      "3             0             0        37      M          <=50K   32   \n",
      "4             0             0        40      M          <=50K   44   \n",
      "\n",
      "    country_name  education ethnicity relationship_role marital_relationship  \\\n",
      "0  United-States  Bachelors     White     Not-in-family        Never-married   \n",
      "1  United-States  Bachelors     White     Not-in-family        Never-married   \n",
      "2  United-States  Bachelors     White     Not-in-family        Never-married   \n",
      "3  United-States  Bachelors     White     Not-in-family        Never-married   \n",
      "4  United-States  Bachelors     White     Not-in-family        Never-married   \n",
      "\n",
      "  marriage_status work_class    occupation  \n",
      "0     Not Married  State-gov  Adm-clerical  \n",
      "1     Not Married  State-gov  Adm-clerical  \n",
      "2     Not Married  State-gov  Adm-clerical  \n",
      "3     Not Married  State-gov  Adm-clerical  \n",
      "4     Not Married  State-gov  Adm-clerical  \n"
     ]
    }
   ],
   "source": [
    "# Process dim_country\n",
    "central_df = central_df.merge(dim_country, on=[\"country_id\"], how=\"left\")\n",
    "# Delete country ID\n",
    "central_df.drop([\"country_id\"], axis=1, inplace=True)\n",
    "\n",
    "# Process dim_education\n",
    "central_df = central_df.merge(dim_education, on=[\"education_id\"], how=\"left\")\n",
    "# Delete education ID\n",
    "central_df.drop([\"education_id\"], axis=1, inplace=True)\n",
    "\n",
    "# Process dim_race\n",
    "central_df = central_df.merge(dim_race, on=[\"race_id\"], how=\"left\")\n",
    "central_df.drop([\"race_id\"], axis=1, inplace=True)\n",
    "\n",
    "# Process dim_relationship\n",
    "central_df = central_df.merge(dim_relationship, on=[\"relationship_id\"], how=\"left\")\n",
    "central_df.drop([\"relationship_id\"], axis=1, inplace=True)\n",
    "\n",
    "# Process dim_work\n",
    "central_df = central_df.merge(dim_work, on=[\"work_id\"], how=\"left\")\n",
    "central_df.drop([\"work_id\"], axis=1, inplace=True)\n",
    "\n",
    "# Take a final peek at the dataset to check that it's correct\n",
    "print(central_df.head())"
   ]
  },
  {
   "cell_type": "markdown",
   "metadata": {},
   "source": [
    "Now that the data has been remerged we can perform analytics. Let's start with association rule mining. "
   ]
  },
  {
   "cell_type": "markdown",
   "metadata": {},
   "source": [
    "## Assocation Rule Mining\n",
    "\n",
    "Association rule mining is concerned with finding frequent itemsets. Association rule mining could be helpful in the context of this dataset for finding out which characteristics are associated with being in a higher income bracket, so that people wishing to increase their income can make data-driven decisions about how to do so. \n",
    "\n",
    "Whether an itemset is considered frequent is determined by its support - its relative frequency in the dataset. The minimum support required for an itemset to be considered frequent is highly problem and dataset specific, and so will need to be tuned as part of the analysis to discover meaningful results. \n",
    "\n",
    "However, it is not only the frequency of itemsets that is of interest for association rule mining, but also the interaction between itemsets in the data set. The interactions of itemsets are measured with two metrics - confidence and lift. Confidence measures the conditional probability of an itemset containing a particular item or parameter, given that another item or parameter is contained in the itemset. Lift measures the degree to which the presence of a particular item in an itemset increases the occurrence of another, taking into account the popularity of both items in the dataset. Lift is a better measure than confidence as confidence can reveal associations that exist only due to the popularity of one item in the itemset. Lift values greater than 1 indicate that there is a positive association between the items being compared, a lift value of 1 indicates that there is no association and a lift value below 1 indicates a negative association between the two items. \n",
    "\n",
    "### Aim\n",
    "The aim of this analysis is to uncover association rules between particular characteristics and income status using lift as a metric, and provide recommendations to a person seeking to increase their income."
   ]
  },
  {
   "cell_type": "markdown",
   "metadata": {},
   "source": [
    "### Library Installation\n",
    "To mine the association rules the ```mlxtend``` library will be used, if it is not installed on your system, uncomment the command below and run it to install it."
   ]
  },
  {
   "cell_type": "code",
   "execution_count": 153,
   "metadata": {},
   "outputs": [],
   "source": [
    "#import sys\n",
    "# !{sys.executable} -m pip install mlxtend "
   ]
  },
  {
   "cell_type": "markdown",
   "metadata": {},
   "source": [
    "Before we can use the ```mlxtend``` library to mine association rules the continuous variables in the dataset must be discretised, and then all categorical variables must be converted to binary variables.  "
   ]
  },
  {
   "cell_type": "code",
   "execution_count": 154,
   "metadata": {},
   "outputs": [
    {
     "name": "stdout",
     "output_type": "stream",
     "text": [
      "capital_gain             int64\n",
      "capital_loss             int64\n",
      "hours_pw                 int64\n",
      "gender                  object\n",
      "income_bracket          object\n",
      "age                      int64\n",
      "country_name            object\n",
      "education               object\n",
      "ethnicity               object\n",
      "relationship_role       object\n",
      "marital_relationship    object\n",
      "marriage_status         object\n",
      "work_class              object\n",
      "occupation              object\n",
      "dtype: object\n"
     ]
    }
   ],
   "source": [
    "discrete_df = central_df\n",
    "# Find the columns that require discretising\n",
    "print(discrete_df.dtypes)"
   ]
  },
  {
   "cell_type": "markdown",
   "metadata": {},
   "source": [
    "The attributes that need to be discretised are:\n",
    "* Age\n",
    "* Hours worked per week\n",
    "* Capital Gain\n",
    "* Capital Loss\n",
    "\n",
    "In order to discretise them sensibly let's take a look at their plots."
   ]
  },
  {
   "cell_type": "code",
   "execution_count": 155,
   "metadata": {},
   "outputs": [
    {
     "data": {
      "image/png": "[encoded data removed]",
      "text/plain": [
       "<Figure size 1080x720 with 4 Axes>"
      ]
     },
     "metadata": {},
     "output_type": "display_data"
    }
   ],
   "source": [
    "import matplotlib.pyplot as plt\n",
    "# Matplot lib is pretty ugly, so use ggplot styling\n",
    "plt.style.use(\"ggplot\")\n",
    "# Create subplot with two rows and columns with a larger plot size for ease of comparison\n",
    "fig, axs = plt.subplots(2,2, figsize = (15, 10))\n",
    "# Spaces the plots out so the titles don't overlap\n",
    "fig.tight_layout()\n",
    "\n",
    "# Plot age\n",
    "axs[0, 0].set_title(\"Age\")\n",
    "axs[0, 0].hist(discrete_df[\"age\"])\n",
    "\n",
    "# Plot Hours per week\n",
    "axs[0, 1].set_title(\"Hours Per Week\")\n",
    "axs[0, 1].hist(discrete_df[\"hours_pw\"])\n",
    "\n",
    "# Plot capital gains\n",
    "axs[1, 0].set_title(\"Capital Gains\")\n",
    "axs[1, 0].hist(discrete_df[\"capital_gain\"])\n",
    "\n",
    "# Plot capital losses\n",
    "axs[1, 1].set_title(\"Capital Losses\")\n",
    "axs[1, 1].hist(discrete_df[\"capital_loss\"])\n",
    "\n",
    "plt.show()\n"
   ]
  },
  {
   "cell_type": "markdown",
   "metadata": {},
   "source": [
    "Looking at the histograms the following discretisation schemes appear logical and easily interpretable:\n",
    "\n",
    "- Age: Divide age into bins of size 10 with a maximum of 100.\n",
    "- Hours worked per week: Divide hours worked per week into bins of size 10, with a maximum of 100.\n",
    "- Capital gains: Divide capital gains into bins of size 10,000 with a maximum of 100,000.\n",
    "- Capital losses: Divide capital losses into bins of size 1,000 with a maximum of 5,000."
   ]
  },
  {
   "cell_type": "code",
   "execution_count": 156,
   "metadata": {},
   "outputs": [
    {
     "name": "stdout",
     "output_type": "stream",
     "text": [
      "   capital_gain_0-9K  capital_gain_10-19K  capital_gain_20-29K  \\\n",
      "0                  1                    0                    0   \n",
      "1                  1                    0                    0   \n",
      "2                  1                    0                    0   \n",
      "3                  1                    0                    0   \n",
      "4                  1                    0                    0   \n",
      "\n",
      "   capital_gain_30-39K  capital_gain_40-49K  capital_gain_90-99K  \\\n",
      "0                    0                    0                    0   \n",
      "1                    0                    0                    0   \n",
      "2                    0                    0                    0   \n",
      "3                    0                    0                    0   \n",
      "4                    0                    0                    0   \n",
      "\n",
      "   capital_loss_0-1K  capital_loss_1-2K  capital_loss_2-3K  capital_loss_3-4K  \\\n",
      "0                  1                  0                  0                  0   \n",
      "1                  1                  0                  0                  0   \n",
      "2                  1                  0                  0                  0   \n",
      "3                  1                  0                  0                  0   \n",
      "4                  1                  0                  0                  0   \n",
      "\n",
      "   ...  occupation_Farming-fishing  occupation_Handlers-cleaners  \\\n",
      "0  ...                           0                             0   \n",
      "1  ...                           0                             0   \n",
      "2  ...                           0                             0   \n",
      "3  ...                           0                             0   \n",
      "4  ...                           0                             0   \n",
      "\n",
      "   occupation_Machine-op-inspct  occupation_Other-service  \\\n",
      "0                             0                         0   \n",
      "1                             0                         0   \n",
      "2                             0                         0   \n",
      "3                             0                         0   \n",
      "4                             0                         0   \n",
      "\n",
      "   occupation_Priv-house-serv  occupation_Prof-specialty  \\\n",
      "0                           0                          0   \n",
      "1                           0                          0   \n",
      "2                           0                          0   \n",
      "3                           0                          0   \n",
      "4                           0                          0   \n",
      "\n",
      "   occupation_Protective-serv  occupation_Sales  occupation_Tech-support  \\\n",
      "0                           0                 0                        0   \n",
      "1                           0                 0                        0   \n",
      "2                           0                 0                        0   \n",
      "3                           0                 0                        0   \n",
      "4                           0                 0                        0   \n",
      "\n",
      "   occupation_Transport-moving  \n",
      "0                            0  \n",
      "1                            0  \n",
      "2                            0  \n",
      "3                            0  \n",
      "4                            0  \n",
      "\n",
      "[5 rows x 136 columns]\n"
     ]
    }
   ],
   "source": [
    "from discretise import discretise_age\n",
    "from discretise import discretise_hours\n",
    "from discretise import discretise_cap_gains\n",
    "from discretise import discretise_cap_loss\n",
    "\n",
    "\n",
    "discrete_df[\"age\"] = discrete_df[\"age\"].apply(lambda x: discretise_age(x))\n",
    "discrete_df[\"hours_pw\"] = discrete_df[\"hours_pw\"].apply(lambda x: discretise_hours(x))\n",
    "discrete_df[\"capital_gain\"] = discrete_df[\"capital_gain\"].apply(lambda x: discretise_cap_gains(x))\n",
    "discrete_df[\"capital_loss\"] = discrete_df[\"capital_loss\"].apply(lambda x: discretise_cap_loss(x))\n",
    "\n",
    "\n",
    "dummy_df = pd.get_dummies(discrete_df)\n",
    "print(dummy_df.head())"
   ]
  },
  {
   "cell_type": "markdown",
   "metadata": {},
   "source": [
    "Now that the data is in the correct format we can perform apriori pruning to find the association rules. Experimenting with the dataset it was found that the maximum value for ```min_support``` that produced useful rules lay between 0.18 and 0.19, reducing the ```min_support``` below 0.18 results in highly convoluted rules that provide little insight. We are using lift as the metric as we are looking for characteristics associated with a higher income, and we are looking for a positive association, so the ```min_threshold``` value is set to ```1.01```.  "
   ]
  },
  {
   "cell_type": "code",
   "execution_count": 157,
   "metadata": {},
   "outputs": [
    {
     "name": "stdout",
     "output_type": "stream",
     "text": [
      "              antecedents             consequents  antecedent support  \\\n",
      "0     (capital_gain_0-9K)              (gender_F)            0.976352   \n",
      "1              (gender_F)     (capital_gain_0-9K)            0.330795   \n",
      "2     (capital_gain_0-9K)  (income_bracket_<=50K)            0.976352   \n",
      "3  (income_bracket_<=50K)     (capital_gain_0-9K)            0.759190   \n",
      "4     (capital_gain_0-9K)             (age_20-29)            0.976352   \n",
      "\n",
      "   consequent support   support  confidence      lift  leverage  conviction  \n",
      "0            0.330795  0.326464    0.334371  1.010813  0.003492    1.005374  \n",
      "1            0.976352  0.326464    0.986909  1.010813  0.003492    1.806466  \n",
      "2            0.759190  0.758760    0.777138  1.023641  0.017523    1.080533  \n",
      "3            0.976352  0.758760    0.999434  1.023641  0.017523   41.755474  \n",
      "4            0.247351  0.246153    0.252115  1.019261  0.004652    1.006370  \n"
     ]
    }
   ],
   "source": [
    "from mlxtend.frequent_patterns import apriori\n",
    "from mlxtend.frequent_patterns import association_rules\n",
    "\n",
    "frequent_itemsets = apriori(dummy_df, min_support=0.18, use_colnames=True) \n",
    "rules = association_rules(frequent_itemsets, metric=\"lift\", min_threshold=1.01)\n",
    "print(rules.head())"
   ]
  },
  {
   "cell_type": "markdown",
   "metadata": {},
   "source": [
    "We are only interested in the rules in which having an income larger than \\$50,000 is the rule's consequent, or the outcome of the rule, so we will filter the rules to include only those where having an income greater than \\$50,000 is the only outcome."
   ]
  },
  {
   "cell_type": "code",
   "execution_count": 158,
   "metadata": {},
   "outputs": [
    {
     "name": "stdout",
     "output_type": "stream",
     "text": [
      "35\n"
     ]
    }
   ],
   "source": [
    "def row_filter(x):\n",
    "    if \"income_bracket_>50K\" in x[\"consequents\"] and len(x[\"consequents\"]) == 1:\n",
    "        return True\n",
    "    return False\n",
    "\n",
    "# Add a column indicating whether the consequents only contain income >=50K\n",
    "rules[\"income_row\"] = rules.apply(lambda x: row_filter(x), axis=1)\n",
    "rules = rules[rules[\"income_row\"] == True]\n",
    "rules = rules.sort_values(by=[\"lift\"], ascending=[False])\n",
    "print(len(rules))"
   ]
  },
  {
   "cell_type": "markdown",
   "metadata": {},
   "source": [
    "Now that we have a reasonable number of association rules to examine, let's print them in a readable format and interpret them."
   ]
  },
  {
   "cell_type": "code",
   "execution_count": 159,
   "metadata": {},
   "outputs": [
    {
     "name": "stdout",
     "output_type": "stream",
     "text": [
      "(marriage_status_Married,country_name_United-States,marital_relationship_Married-civ-spouse) -> (income_bracket_>50K)\n",
      "Support: 0.19\n",
      "Confidence: 0.46\n",
      "Lift: 1.9\n",
      "Antecedents count: 3\n",
      "\n",
      "\n",
      "(country_name_United-States,marital_relationship_Married-civ-spouse) -> (income_bracket_>50K)\n",
      "Support: 0.19\n",
      "Confidence: 0.46\n",
      "Lift: 1.9\n",
      "Antecedents count: 2\n",
      "\n",
      "\n",
      "(marital_relationship_Married-civ-spouse,ethnicity_White) -> (income_bracket_>50K)\n",
      "Support: 0.19\n",
      "Confidence: 0.46\n",
      "Lift: 1.89\n",
      "Antecedents count: 2\n",
      "\n",
      "\n",
      "(marital_relationship_Married-civ-spouse,marriage_status_Married,ethnicity_White) -> (income_bracket_>50K)\n",
      "Support: 0.19\n",
      "Confidence: 0.46\n",
      "Lift: 1.89\n",
      "Antecedents count: 3\n",
      "\n",
      "\n",
      "(marriage_status_Married,country_name_United-States) -> (income_bracket_>50K)\n",
      "Support: 0.19\n",
      "Confidence: 0.45\n",
      "Lift: 1.87\n",
      "Antecedents count: 2\n",
      "\n",
      "\n",
      "(gender_M,marriage_status_Married,relationship_role_Husband,marital_relationship_Married-civ-spouse) -> (income_bracket_>50K)\n",
      "Support: 0.18\n",
      "Confidence: 0.45\n",
      "Lift: 1.86\n",
      "Antecedents count: 4\n",
      "\n",
      "\n",
      "(gender_M,relationship_role_Husband,marital_relationship_Married-civ-spouse) -> (income_bracket_>50K)\n",
      "Support: 0.18\n",
      "Confidence: 0.45\n",
      "Lift: 1.86\n",
      "Antecedents count: 3\n",
      "\n",
      "\n",
      "(marriage_status_Married,relationship_role_Husband,gender_M) -> (income_bracket_>50K)\n",
      "Support: 0.18\n",
      "Confidence: 0.45\n",
      "Lift: 1.86\n",
      "Antecedents count: 3\n",
      "\n",
      "\n",
      "(relationship_role_Husband,gender_M) -> (income_bracket_>50K)\n",
      "Support: 0.18\n",
      "Confidence: 0.45\n",
      "Lift: 1.86\n",
      "Antecedents count: 2\n",
      "\n",
      "\n",
      "(marriage_status_Married,relationship_role_Husband,marital_relationship_Married-civ-spouse) -> (income_bracket_>50K)\n",
      "Support: 0.18\n",
      "Confidence: 0.45\n",
      "Lift: 1.86\n",
      "Antecedents count: 3\n",
      "\n",
      "\n",
      "(relationship_role_Husband,marital_relationship_Married-civ-spouse) -> (income_bracket_>50K)\n",
      "Support: 0.18\n",
      "Confidence: 0.45\n",
      "Lift: 1.86\n",
      "Antecedents count: 2\n",
      "\n",
      "\n",
      "(relationship_role_Husband) -> (income_bracket_>50K)\n",
      "Support: 0.18\n",
      "Confidence: 0.45\n",
      "Lift: 1.86\n",
      "Antecedents count: 1\n",
      "\n",
      "\n",
      "(marriage_status_Married,relationship_role_Husband) -> (income_bracket_>50K)\n",
      "Support: 0.18\n",
      "Confidence: 0.45\n",
      "Lift: 1.86\n",
      "Antecedents count: 2\n",
      "\n",
      "\n",
      "(marriage_status_Married,ethnicity_White) -> (income_bracket_>50K)\n",
      "Support: 0.19\n",
      "Confidence: 0.45\n",
      "Lift: 1.86\n",
      "Antecedents count: 2\n",
      "\n",
      "\n",
      "(marriage_status_Married,marital_relationship_Married-civ-spouse) -> (income_bracket_>50K)\n",
      "Support: 0.21\n",
      "Confidence: 0.45\n",
      "Lift: 1.86\n",
      "Antecedents count: 2\n",
      "\n",
      "\n",
      "(marital_relationship_Married-civ-spouse) -> (income_bracket_>50K)\n",
      "Support: 0.21\n",
      "Confidence: 0.45\n",
      "Lift: 1.86\n",
      "Antecedents count: 1\n",
      "\n",
      "\n",
      "(marital_relationship_Married-civ-spouse,gender_M) -> (income_bracket_>50K)\n",
      "Support: 0.18\n",
      "Confidence: 0.45\n",
      "Lift: 1.85\n",
      "Antecedents count: 2\n",
      "\n",
      "\n",
      "(marital_relationship_Married-civ-spouse,marriage_status_Married,gender_M) -> (income_bracket_>50K)\n",
      "Support: 0.18\n",
      "Confidence: 0.45\n",
      "Lift: 1.85\n",
      "Antecedents count: 3\n",
      "\n",
      "\n",
      "(marriage_status_Married,gender_M) -> (income_bracket_>50K)\n",
      "Support: 0.18\n",
      "Confidence: 0.44\n",
      "Lift: 1.83\n",
      "Antecedents count: 2\n",
      "\n",
      "\n",
      "(marriage_status_Married) -> (income_bracket_>50K)\n",
      "Support: 0.21\n",
      "Confidence: 0.44\n",
      "Lift: 1.81\n",
      "Antecedents count: 1\n",
      "\n",
      "\n",
      "(capital_loss_0-1K,marriage_status_Married,marital_relationship_Married-civ-spouse) -> (income_bracket_>50K)\n",
      "Support: 0.18\n",
      "Confidence: 0.43\n",
      "Lift: 1.78\n",
      "Antecedents count: 3\n",
      "\n",
      "\n",
      "(capital_loss_0-1K,marital_relationship_Married-civ-spouse) -> (income_bracket_>50K)\n",
      "Support: 0.18\n",
      "Confidence: 0.43\n",
      "Lift: 1.78\n",
      "Antecedents count: 2\n",
      "\n",
      "\n",
      "(capital_gain_0-9K,marital_relationship_Married-civ-spouse) -> (income_bracket_>50K)\n",
      "Support: 0.19\n",
      "Confidence: 0.43\n",
      "Lift: 1.77\n",
      "Antecedents count: 2\n",
      "\n",
      "\n",
      "(capital_gain_0-9K,marriage_status_Married,marital_relationship_Married-civ-spouse) -> (income_bracket_>50K)\n",
      "Support: 0.19\n",
      "Confidence: 0.43\n",
      "Lift: 1.77\n",
      "Antecedents count: 3\n",
      "\n",
      "\n",
      "(capital_loss_0-1K,marriage_status_Married) -> (income_bracket_>50K)\n",
      "Support: 0.19\n",
      "Confidence: 0.42\n",
      "Lift: 1.74\n",
      "Antecedents count: 2\n",
      "\n",
      "\n",
      "(capital_gain_0-9K,marriage_status_Married) -> (income_bracket_>50K)\n",
      "Support: 0.19\n",
      "Confidence: 0.42\n",
      "Lift: 1.73\n",
      "Antecedents count: 2\n",
      "\n",
      "\n",
      "(ethnicity_White,gender_M) -> (income_bracket_>50K)\n",
      "Support: 0.19\n",
      "Confidence: 0.32\n",
      "Lift: 1.32\n",
      "Antecedents count: 2\n",
      "\n",
      "\n",
      "(country_name_United-States,gender_M) -> (income_bracket_>50K)\n",
      "Support: 0.19\n",
      "Confidence: 0.31\n",
      "Lift: 1.3\n",
      "Antecedents count: 2\n",
      "\n",
      "\n",
      "(gender_M) -> (income_bracket_>50K)\n",
      "Support: 0.2\n",
      "Confidence: 0.31\n",
      "Lift: 1.27\n",
      "Antecedents count: 1\n",
      "\n",
      "\n",
      "(capital_loss_0-1K,gender_M) -> (income_bracket_>50K)\n",
      "Support: 0.18\n",
      "Confidence: 0.29\n",
      "Lift: 1.21\n",
      "Antecedents count: 2\n",
      "\n",
      "\n",
      "(capital_gain_0-9K,gender_M) -> (income_bracket_>50K)\n",
      "Support: 0.19\n",
      "Confidence: 0.29\n",
      "Lift: 1.19\n",
      "Antecedents count: 2\n",
      "\n",
      "\n",
      "(country_name_United-States,ethnicity_White) -> (income_bracket_>50K)\n",
      "Support: 0.21\n",
      "Confidence: 0.26\n",
      "Lift: 1.09\n",
      "Antecedents count: 2\n",
      "\n",
      "\n",
      "(ethnicity_White) -> (income_bracket_>50K)\n",
      "Support: 0.22\n",
      "Confidence: 0.26\n",
      "Lift: 1.06\n",
      "Antecedents count: 1\n",
      "\n",
      "\n",
      "(capital_loss_0-1K,country_name_United-States,ethnicity_White) -> (income_bracket_>50K)\n",
      "Support: 0.19\n",
      "Confidence: 0.25\n",
      "Lift: 1.03\n",
      "Antecedents count: 3\n",
      "\n",
      "\n",
      "(country_name_United-States) -> (income_bracket_>50K)\n",
      "Support: 0.22\n",
      "Confidence: 0.25\n",
      "Lift: 1.02\n",
      "Antecedents count: 1\n",
      "\n",
      "\n"
     ]
    }
   ],
   "source": [
    "from apriori import print_rules\n",
    "print_rules(rules)"
   ]
  },
  {
   "cell_type": "markdown",
   "metadata": {},
   "source": [
    "The top 5 rules in terms of lift appear to be convoluted and contain redundancy in terms of attributes. The first two rules differ only in that the second does not include ```marriage_status_Married```, but does include ```marital_relationship_Married-civ-spouse```, which indicates the same information, albeit more specifically. \n",
    "\n",
    "Given that the minimum lift threshold was set to ```1.01```, all of the mined rules indicate a positive association between the antecedents and the consequent, having an income larger that \\$50,000 per year. Therefore, to adequately answer the question of what someone seeking to increase their income should do, it is perhaps better to look at the simplest rules which are associated with a higher income, as the changes proposed by these may then be arbitrarily combined to increase the likelihood of a person earning more than \\$50,000 per year.\n",
    "\n",
    "Instead of ranking the rules by lift, we can instead list them by the number of attributes in the antecedents to identify simpler, more useful rules.  "
   ]
  },
  {
   "cell_type": "code",
   "execution_count": 160,
   "metadata": {},
   "outputs": [
    {
     "name": "stdout",
     "output_type": "stream",
     "text": [
      "(relationship_role_Husband) -> (income_bracket_>50K)\n",
      "Support: 0.18\n",
      "Confidence: 0.45\n",
      "Lift: 1.86\n",
      "Antecedents count: 1\n",
      "\n",
      "\n",
      "(marital_relationship_Married-civ-spouse) -> (income_bracket_>50K)\n",
      "Support: 0.21\n",
      "Confidence: 0.45\n",
      "Lift: 1.86\n",
      "Antecedents count: 1\n",
      "\n",
      "\n",
      "(marriage_status_Married) -> (income_bracket_>50K)\n",
      "Support: 0.21\n",
      "Confidence: 0.44\n",
      "Lift: 1.81\n",
      "Antecedents count: 1\n",
      "\n",
      "\n",
      "(gender_M) -> (income_bracket_>50K)\n",
      "Support: 0.2\n",
      "Confidence: 0.31\n",
      "Lift: 1.27\n",
      "Antecedents count: 1\n",
      "\n",
      "\n",
      "(ethnicity_White) -> (income_bracket_>50K)\n",
      "Support: 0.22\n",
      "Confidence: 0.26\n",
      "Lift: 1.06\n",
      "Antecedents count: 1\n",
      "\n",
      "\n",
      "(country_name_United-States) -> (income_bracket_>50K)\n",
      "Support: 0.22\n",
      "Confidence: 0.25\n",
      "Lift: 1.02\n",
      "Antecedents count: 1\n",
      "\n",
      "\n",
      "(country_name_United-States,marital_relationship_Married-civ-spouse) -> (income_bracket_>50K)\n",
      "Support: 0.19\n",
      "Confidence: 0.46\n",
      "Lift: 1.9\n",
      "Antecedents count: 2\n",
      "\n",
      "\n",
      "(marital_relationship_Married-civ-spouse,ethnicity_White) -> (income_bracket_>50K)\n",
      "Support: 0.19\n",
      "Confidence: 0.46\n",
      "Lift: 1.89\n",
      "Antecedents count: 2\n",
      "\n",
      "\n",
      "(marriage_status_Married,country_name_United-States) -> (income_bracket_>50K)\n",
      "Support: 0.19\n",
      "Confidence: 0.45\n",
      "Lift: 1.87\n",
      "Antecedents count: 2\n",
      "\n",
      "\n",
      "(relationship_role_Husband,gender_M) -> (income_bracket_>50K)\n",
      "Support: 0.18\n",
      "Confidence: 0.45\n",
      "Lift: 1.86\n",
      "Antecedents count: 2\n",
      "\n",
      "\n",
      "(relationship_role_Husband,marital_relationship_Married-civ-spouse) -> (income_bracket_>50K)\n",
      "Support: 0.18\n",
      "Confidence: 0.45\n",
      "Lift: 1.86\n",
      "Antecedents count: 2\n",
      "\n",
      "\n",
      "(marriage_status_Married,relationship_role_Husband) -> (income_bracket_>50K)\n",
      "Support: 0.18\n",
      "Confidence: 0.45\n",
      "Lift: 1.86\n",
      "Antecedents count: 2\n",
      "\n",
      "\n",
      "(marriage_status_Married,ethnicity_White) -> (income_bracket_>50K)\n",
      "Support: 0.19\n",
      "Confidence: 0.45\n",
      "Lift: 1.86\n",
      "Antecedents count: 2\n",
      "\n",
      "\n",
      "(marriage_status_Married,marital_relationship_Married-civ-spouse) -> (income_bracket_>50K)\n",
      "Support: 0.21\n",
      "Confidence: 0.45\n",
      "Lift: 1.86\n",
      "Antecedents count: 2\n",
      "\n",
      "\n",
      "(marital_relationship_Married-civ-spouse,gender_M) -> (income_bracket_>50K)\n",
      "Support: 0.18\n",
      "Confidence: 0.45\n",
      "Lift: 1.85\n",
      "Antecedents count: 2\n",
      "\n",
      "\n",
      "(marriage_status_Married,gender_M) -> (income_bracket_>50K)\n",
      "Support: 0.18\n",
      "Confidence: 0.44\n",
      "Lift: 1.83\n",
      "Antecedents count: 2\n",
      "\n",
      "\n",
      "(capital_loss_0-1K,marital_relationship_Married-civ-spouse) -> (income_bracket_>50K)\n",
      "Support: 0.18\n",
      "Confidence: 0.43\n",
      "Lift: 1.78\n",
      "Antecedents count: 2\n",
      "\n",
      "\n",
      "(capital_gain_0-9K,marital_relationship_Married-civ-spouse) -> (income_bracket_>50K)\n",
      "Support: 0.19\n",
      "Confidence: 0.43\n",
      "Lift: 1.77\n",
      "Antecedents count: 2\n",
      "\n",
      "\n",
      "(capital_loss_0-1K,marriage_status_Married) -> (income_bracket_>50K)\n",
      "Support: 0.19\n",
      "Confidence: 0.42\n",
      "Lift: 1.74\n",
      "Antecedents count: 2\n",
      "\n",
      "\n",
      "(capital_gain_0-9K,marriage_status_Married) -> (income_bracket_>50K)\n",
      "Support: 0.19\n",
      "Confidence: 0.42\n",
      "Lift: 1.73\n",
      "Antecedents count: 2\n",
      "\n",
      "\n",
      "(ethnicity_White,gender_M) -> (income_bracket_>50K)\n",
      "Support: 0.19\n",
      "Confidence: 0.32\n",
      "Lift: 1.32\n",
      "Antecedents count: 2\n",
      "\n",
      "\n",
      "(country_name_United-States,gender_M) -> (income_bracket_>50K)\n",
      "Support: 0.19\n",
      "Confidence: 0.31\n",
      "Lift: 1.3\n",
      "Antecedents count: 2\n",
      "\n",
      "\n",
      "(capital_loss_0-1K,gender_M) -> (income_bracket_>50K)\n",
      "Support: 0.18\n",
      "Confidence: 0.29\n",
      "Lift: 1.21\n",
      "Antecedents count: 2\n",
      "\n",
      "\n",
      "(capital_gain_0-9K,gender_M) -> (income_bracket_>50K)\n",
      "Support: 0.19\n",
      "Confidence: 0.29\n",
      "Lift: 1.19\n",
      "Antecedents count: 2\n",
      "\n",
      "\n",
      "(country_name_United-States,ethnicity_White) -> (income_bracket_>50K)\n",
      "Support: 0.21\n",
      "Confidence: 0.26\n",
      "Lift: 1.09\n",
      "Antecedents count: 2\n",
      "\n",
      "\n",
      "(marriage_status_Married,country_name_United-States,marital_relationship_Married-civ-spouse) -> (income_bracket_>50K)\n",
      "Support: 0.19\n",
      "Confidence: 0.46\n",
      "Lift: 1.9\n",
      "Antecedents count: 3\n",
      "\n",
      "\n",
      "(marital_relationship_Married-civ-spouse,marriage_status_Married,ethnicity_White) -> (income_bracket_>50K)\n",
      "Support: 0.19\n",
      "Confidence: 0.46\n",
      "Lift: 1.89\n",
      "Antecedents count: 3\n",
      "\n",
      "\n",
      "(gender_M,relationship_role_Husband,marital_relationship_Married-civ-spouse) -> (income_bracket_>50K)\n",
      "Support: 0.18\n",
      "Confidence: 0.45\n",
      "Lift: 1.86\n",
      "Antecedents count: 3\n",
      "\n",
      "\n",
      "(marriage_status_Married,relationship_role_Husband,gender_M) -> (income_bracket_>50K)\n",
      "Support: 0.18\n",
      "Confidence: 0.45\n",
      "Lift: 1.86\n",
      "Antecedents count: 3\n",
      "\n",
      "\n",
      "(marriage_status_Married,relationship_role_Husband,marital_relationship_Married-civ-spouse) -> (income_bracket_>50K)\n",
      "Support: 0.18\n",
      "Confidence: 0.45\n",
      "Lift: 1.86\n",
      "Antecedents count: 3\n",
      "\n",
      "\n",
      "(marital_relationship_Married-civ-spouse,marriage_status_Married,gender_M) -> (income_bracket_>50K)\n",
      "Support: 0.18\n",
      "Confidence: 0.45\n",
      "Lift: 1.85\n",
      "Antecedents count: 3\n",
      "\n",
      "\n",
      "(capital_loss_0-1K,marriage_status_Married,marital_relationship_Married-civ-spouse) -> (income_bracket_>50K)\n",
      "Support: 0.18\n",
      "Confidence: 0.43\n",
      "Lift: 1.78\n",
      "Antecedents count: 3\n",
      "\n",
      "\n",
      "(capital_gain_0-9K,marriage_status_Married,marital_relationship_Married-civ-spouse) -> (income_bracket_>50K)\n",
      "Support: 0.19\n",
      "Confidence: 0.43\n",
      "Lift: 1.77\n",
      "Antecedents count: 3\n",
      "\n",
      "\n",
      "(capital_loss_0-1K,country_name_United-States,ethnicity_White) -> (income_bracket_>50K)\n",
      "Support: 0.19\n",
      "Confidence: 0.25\n",
      "Lift: 1.03\n",
      "Antecedents count: 3\n",
      "\n",
      "\n",
      "(gender_M,marriage_status_Married,relationship_role_Husband,marital_relationship_Married-civ-spouse) -> (income_bracket_>50K)\n",
      "Support: 0.18\n",
      "Confidence: 0.45\n",
      "Lift: 1.86\n",
      "Antecedents count: 4\n",
      "\n",
      "\n"
     ]
    }
   ],
   "source": [
    "rules[\"antecedents_count\"] = rules[\"antecedents\"].apply(lambda x: len(x))\n",
    "rules = rules.sort_values(\n",
    "    by=[\"antecedents_count\", \"lift\"],\n",
    "    ascending=[True, False]\n",
    ")\n",
    "print_rules(rules)"
   ]
  },
  {
   "cell_type": "markdown",
   "metadata": {},
   "source": [
    "Looking at the rules ordered by the number of attributes in the antecedents, we see similar trends to the graphs produced in the first assignment. Let's take a look at the top rules containing a single antecedent and interpret them:\n",
    "\n",
    "- Rule 1: If a person is a husband they are 1.86 times more likely to have an income greater than \\$50,000. \n",
    "- Rule 2: If a person is a civilian spouse they are 1.86 times more likely to have an income greater than \\$50,000.\n",
    "- Rule 3: If a person is married they are 1.81 times more likely to have an income greater than \\$50,000.\n",
    "- Rule 4: If a person is male they are 1.27 times more likely to have an income greater than \\$50,000.\n",
    "- Rule 5: If a person is white they are 1.06 times more likely to have an income greater than \\$50,000.\n",
    "- Rule 6: If a person is born in the United States they are 1.02 times more likely to have an income greater than \\$50,000.\n",
    "\n",
    "The support for these rules ranges from 0.18 to 0.22, suggesting that there is a reasonably large number of rows containing the antecedent, consequent, or both. \n",
    "\n",
    "The confidence for these rules ranges from 0.25 to 0.45, demonstrating that confidence can at times be a misleading metric for analysing association rules due to the fact that is does not account for the frequency of the antecedent and the consequent in the data set.\n",
    "\n",
    "Looking further down the list of rules we also see that there are interactions between the parameters that produce larger lift values, for example, being a civilian spouse and born in the United States makes a person 1.9 times more likely to have an income greater than \\$50,000, a larger lift value than either of those characteristics produce alone.\n",
    "\n",
    "\n",
    "### Answering our initial question\n",
    "\n",
    "In the context of the analysis performed in the first part of the assignment, the rules produced by apriori pruning aren't hugely surprising and are consistent with the findings of similar studies in the [literature](https://www.jstor.org/stable/26350078?seq=1#metadata_info_tab_contents). Given that race, gender at birth, and place of birth are not characteristics that can be changed, the only practical advice that can be offered to people wishing to increase their income is to get married. "
   ]
  },
  {
   "cell_type": "markdown",
   "metadata": {},
   "source": [
    "## Classification\n",
    "\n",
    "Binary decision trees are a simple, yet powerful classification tool that assign labels to instances in a data set by repeatedly checking if they meet a binary condition. Decision trees act as a series of if-then-else decisions that eventually assign a label to every instance in the data set. \n",
    "\n",
    "For this dataset the ```scikit-learn``` library will be used to produce binary decision trees for classifying whether a person earns more than \\$50,000 a year. \n",
    "\n",
    "We will build two trees, one using a list of attributes we select based on the knowledge we have developed about the dataset from the rule mining, and another built from the full dataset using information gain to determine which attributes to include in the tree. \n",
    "\n",
    "Given the rules developed in the previous exercise it seems reasonable that the most important attributes for determining whether a person earns more than \\$50,000 a year are:\n",
    "\n",
    "- ```relationship_role```\n",
    "- ```marital_relationship```\n",
    "- ```marriage_status```\n",
    "- ```gender```\n",
    "- ```ethnicity```\n",
    "- ```country_name```\n",
    "\n",
    "Let's get tree building."
   ]
  },
  {
   "cell_type": "code",
   "execution_count": 161,
   "metadata": {
    "scrolled": true
   },
   "outputs": [
    {
     "data": {
      "text/plain": [
       "DecisionTreeClassifier(random_state=1)"
      ]
     },
     "execution_count": 161,
     "metadata": {},
     "output_type": "execute_result"
    }
   ],
   "source": [
    "# Import some tree building libraries\n",
    "from sklearn import tree\n",
    "\n",
    "# Select attributes from discretised dataframe\n",
    "sel_attribs = [\n",
    "    \"relationship_role\",\n",
    "    \"marital_relationship\",\n",
    "    \"marriage_status\",\n",
    "    \"gender\",\n",
    "    \"ethnicity\",\n",
    "    \"country_name\"\n",
    "]\n",
    "\n",
    "class_names = [\"<=50K\", \">50K\"]\n",
    "x_sel = pd.get_dummies(discrete_df[sel_attribs])\n",
    "\n",
    "y = pd.get_dummies(discrete_df[\"income_bracket\"])\n",
    "# Only need to predict on one bracket, drop less than 50K bracket\n",
    "y.drop([\"<=50K\"], axis=1, inplace=True)\n",
    "\n",
    "x_all = pd.get_dummies(discrete_df)\n",
    "x_all = x_all.drop([\"income_bracket_<=50K\", \"income_bracket_>50K\"], axis=1)\n",
    "\n",
    "tree_sel = tree.DecisionTreeClassifier(random_state=1)\n",
    "tree_all = tree.DecisionTreeClassifier(random_state=1)\n",
    "\n",
    "tree_sel.fit(x_sel, y)\n",
    "tree_all.fit(x_all, y)\n"
   ]
  },
  {
   "cell_type": "markdown",
   "metadata": {},
   "source": [
    "For the initial construction of the trees we'll use all of the data to get an idea of what form the trees will take and we will use 10-fold cross validation to evaluate their performance later. The algorithm used by sklearn is [Classification and Regression Trees (CART)](https://scikit-learn.org/stable/modules/tree.html#tree-algorithms-id3-c4-5-c5-0-and-cart), which uses the features and thresholds which maximise information gain. However, sklearn's implementation does not support categorical data, and so the data set must be converted to its binary encoding to be used. As with the association rule mining exercise, this is easily achieved with ```pd.get_dummies()```. Let's examine the trees' form and performance.\n",
    "\n",
    "But first we need to install the ```graphviz``` library for visualising trees, if we dont already have it."
   ]
  },
  {
   "cell_type": "code",
   "execution_count": 162,
   "metadata": {},
   "outputs": [],
   "source": [
    "# import sys\n",
    "# !{sys.executable} -m pip install graphviz "
   ]
  },
  {
   "cell_type": "code",
   "execution_count": 163,
   "metadata": {},
   "outputs": [
    {
     "data": {
      "text/plain": [
       "'dtree_render.pdf'"
      ]
     },
     "execution_count": 163,
     "metadata": {},
     "output_type": "execute_result"
    }
   ],
   "source": [
    "import graphviz \n",
    "\n",
    "dot_data = tree.export_graphviz(tree_sel, out_file=None, feature_names=x_sel.columns, filled=True, rounded=True) \n",
    "graph = graphviz.Source(dot_data)  \n",
    "graph.render('dtree_render',view=True)"
   ]
  },
  {
   "cell_type": "markdown",
   "metadata": {},
   "source": [
    "I don't know about you, but that tree is a little bit too large. I also don't suggest you attempt to visualise the tree with all the attributes in the training set, it crashed my computer when I tried. Instead, we will use random forests to find the maximum depth for the trees which produces the optimum results. Random forests is an approach to constructing decision trees to limit overfitting by constructing several trees of varying depths and comparing their classification efficiency using cross validation. Here we can use random forests to find the optimum tree depth for classification, and avoid overfitting the trees, as the previous trees were. We'll evaluate trees with a depth from 2 to 50 using 10 fold cross validation and plot the results to see if there there are any trends in classification efficiency, and select the best depth for both trees. "
   ]
  },
  {
   "cell_type": "code",
   "execution_count": 187,
   "metadata": {},
   "outputs": [
    {
     "data": {
      "text/plain": [
       "GridSearchCV(cv=10, estimator=DecisionTreeClassifier(random_state=1), n_jobs=4,\n",
       "             param_grid={'max_depth': [2, 3, 4, 5, 6, 7, 8, 9, 10, 11, 12, 13,\n",
       "                                       14, 15, 16, 17, 18, 19, 20, 21, 22, 23,\n",
       "                                       24, 25, 26, 27, 28, 29, 30, 31, ...],\n",
       "                         'min_weight_fraction_leaf': [0.1, 0.2, 0.3, 0.4, 0.5]})"
      ]
     },
     "execution_count": 187,
     "metadata": {},
     "output_type": "execute_result"
    }
   ],
   "source": [
    "from sklearn.model_selection import GridSearchCV\n",
    "depth_range = list(range(2, 50))\n",
    "leaf_weights = [0.1, 0.2, 0.3, 0.4, 0.5]\n",
    "params = {\"max_depth\": depth_range, \"min_weight_fraction_leaf\": leaf_weights}\n",
    "\n",
    "# Change njobs if you don't have 4 cores.\n",
    "rf_sel = GridSearchCV(tree.DecisionTreeClassifier(random_state=1), params, n_jobs=4, cv=10)\n",
    "rf_all = GridSearchCV(tree.DecisionTreeClassifier(random_state=1), params, n_jobs=4, cv=10)\n",
    "\n",
    "rf_sel.fit(x_sel, y)\n",
    "rf_all.fit(x_all, y)"
   ]
  },
  {
   "cell_type": "code",
   "execution_count": 192,
   "metadata": {},
   "outputs": [
    {
     "name": "stdout",
     "output_type": "stream",
     "text": [
      "0.7591904489970196\n"
     ]
    }
   ],
   "source": [
    "print(rf_all.best_param_)"
   ]
  },
  {
   "cell_type": "code",
   "execution_count": 184,
   "metadata": {},
   "outputs": [
    {
     "ename": "ValueError",
     "evalue": "x and y must have same first dimension, but have shapes (48,) and (240,)",
     "output_type": "error",
     "traceback": [
      "\u001b[0;31m---------------------------------------------------------------------------\u001b[0m",
      "\u001b[0;31mValueError\u001b[0m                                Traceback (most recent call last)",
      "\u001b[0;32m<ipython-input-184-78e292a3290f>\u001b[0m in \u001b[0;36m<module>\u001b[0;34m\u001b[0m\n\u001b[0;32m----> 1\u001b[0;31m \u001b[0mplt\u001b[0m\u001b[0;34m.\u001b[0m\u001b[0mplot\u001b[0m\u001b[0;34m(\u001b[0m\u001b[0mdepth_range\u001b[0m\u001b[0;34m,\u001b[0m \u001b[0mrf_sel\u001b[0m\u001b[0;34m.\u001b[0m\u001b[0mcv_results_\u001b[0m\u001b[0;34m[\u001b[0m\u001b[0;34m\"mean_test_score\"\u001b[0m\u001b[0;34m]\u001b[0m\u001b[0;34m,\u001b[0m \u001b[0mlabel\u001b[0m\u001b[0;34m=\u001b[0m\u001b[0;34m\"Selected Attributes Tree\"\u001b[0m\u001b[0;34m)\u001b[0m\u001b[0;34m\u001b[0m\u001b[0;34m\u001b[0m\u001b[0m\n\u001b[0m\u001b[1;32m      2\u001b[0m \u001b[0mplt\u001b[0m\u001b[0;34m.\u001b[0m\u001b[0mplot\u001b[0m\u001b[0;34m(\u001b[0m\u001b[0mdepth_range\u001b[0m\u001b[0;34m,\u001b[0m \u001b[0mrf_all\u001b[0m\u001b[0;34m.\u001b[0m\u001b[0mcv_results_\u001b[0m\u001b[0;34m[\u001b[0m\u001b[0;34m\"mean_test_score\"\u001b[0m\u001b[0;34m]\u001b[0m\u001b[0;34m,\u001b[0m \u001b[0mlabel\u001b[0m\u001b[0;34m=\u001b[0m\u001b[0;34m\"All Attributes Tree\"\u001b[0m\u001b[0;34m)\u001b[0m\u001b[0;34m\u001b[0m\u001b[0;34m\u001b[0m\u001b[0m\n\u001b[1;32m      3\u001b[0m \u001b[0mplt\u001b[0m\u001b[0;34m.\u001b[0m\u001b[0mxlabel\u001b[0m\u001b[0;34m(\u001b[0m\u001b[0;34m\"Tree Depth\"\u001b[0m\u001b[0;34m)\u001b[0m\u001b[0;34m\u001b[0m\u001b[0;34m\u001b[0m\u001b[0m\n\u001b[1;32m      4\u001b[0m \u001b[0mplt\u001b[0m\u001b[0;34m.\u001b[0m\u001b[0mylabel\u001b[0m\u001b[0;34m(\u001b[0m\u001b[0;34m\"Classification Efficiency\"\u001b[0m\u001b[0;34m)\u001b[0m\u001b[0;34m\u001b[0m\u001b[0;34m\u001b[0m\u001b[0m\n\u001b[1;32m      5\u001b[0m \u001b[0mplt\u001b[0m\u001b[0;34m.\u001b[0m\u001b[0mtitle\u001b[0m\u001b[0;34m(\u001b[0m\u001b[0;34m\"Classification Efficiency vs Tree Depth\"\u001b[0m\u001b[0;34m)\u001b[0m\u001b[0;34m\u001b[0m\u001b[0;34m\u001b[0m\u001b[0m\n",
      "\u001b[0;32m~/.local/lib/python3.6/site-packages/matplotlib/pyplot.py\u001b[0m in \u001b[0;36mplot\u001b[0;34m(scalex, scaley, data, *args, **kwargs)\u001b[0m\n\u001b[1;32m   2761\u001b[0m     return gca().plot(\n\u001b[1;32m   2762\u001b[0m         *args, scalex=scalex, scaley=scaley, **({\"data\": data} if data\n\u001b[0;32m-> 2763\u001b[0;31m         is not None else {}), **kwargs)\n\u001b[0m\u001b[1;32m   2764\u001b[0m \u001b[0;34m\u001b[0m\u001b[0m\n\u001b[1;32m   2765\u001b[0m \u001b[0;34m\u001b[0m\u001b[0m\n",
      "\u001b[0;32m~/.local/lib/python3.6/site-packages/matplotlib/axes/_axes.py\u001b[0m in \u001b[0;36mplot\u001b[0;34m(self, scalex, scaley, data, *args, **kwargs)\u001b[0m\n\u001b[1;32m   1644\u001b[0m         \"\"\"\n\u001b[1;32m   1645\u001b[0m         \u001b[0mkwargs\u001b[0m \u001b[0;34m=\u001b[0m \u001b[0mcbook\u001b[0m\u001b[0;34m.\u001b[0m\u001b[0mnormalize_kwargs\u001b[0m\u001b[0;34m(\u001b[0m\u001b[0mkwargs\u001b[0m\u001b[0;34m,\u001b[0m \u001b[0mmlines\u001b[0m\u001b[0;34m.\u001b[0m\u001b[0mLine2D\u001b[0m\u001b[0;34m)\u001b[0m\u001b[0;34m\u001b[0m\u001b[0;34m\u001b[0m\u001b[0m\n\u001b[0;32m-> 1646\u001b[0;31m         \u001b[0mlines\u001b[0m \u001b[0;34m=\u001b[0m \u001b[0;34m[\u001b[0m\u001b[0;34m*\u001b[0m\u001b[0mself\u001b[0m\u001b[0;34m.\u001b[0m\u001b[0m_get_lines\u001b[0m\u001b[0;34m(\u001b[0m\u001b[0;34m*\u001b[0m\u001b[0margs\u001b[0m\u001b[0;34m,\u001b[0m \u001b[0mdata\u001b[0m\u001b[0;34m=\u001b[0m\u001b[0mdata\u001b[0m\u001b[0;34m,\u001b[0m \u001b[0;34m**\u001b[0m\u001b[0mkwargs\u001b[0m\u001b[0;34m)\u001b[0m\u001b[0;34m]\u001b[0m\u001b[0;34m\u001b[0m\u001b[0;34m\u001b[0m\u001b[0m\n\u001b[0m\u001b[1;32m   1647\u001b[0m         \u001b[0;32mfor\u001b[0m \u001b[0mline\u001b[0m \u001b[0;32min\u001b[0m \u001b[0mlines\u001b[0m\u001b[0;34m:\u001b[0m\u001b[0;34m\u001b[0m\u001b[0;34m\u001b[0m\u001b[0m\n\u001b[1;32m   1648\u001b[0m             \u001b[0mself\u001b[0m\u001b[0;34m.\u001b[0m\u001b[0madd_line\u001b[0m\u001b[0;34m(\u001b[0m\u001b[0mline\u001b[0m\u001b[0;34m)\u001b[0m\u001b[0;34m\u001b[0m\u001b[0;34m\u001b[0m\u001b[0m\n",
      "\u001b[0;32m~/.local/lib/python3.6/site-packages/matplotlib/axes/_base.py\u001b[0m in \u001b[0;36m__call__\u001b[0;34m(self, *args, **kwargs)\u001b[0m\n\u001b[1;32m    214\u001b[0m                 \u001b[0mthis\u001b[0m \u001b[0;34m+=\u001b[0m \u001b[0margs\u001b[0m\u001b[0;34m[\u001b[0m\u001b[0;36m0\u001b[0m\u001b[0;34m]\u001b[0m\u001b[0;34m,\u001b[0m\u001b[0;34m\u001b[0m\u001b[0;34m\u001b[0m\u001b[0m\n\u001b[1;32m    215\u001b[0m                 \u001b[0margs\u001b[0m \u001b[0;34m=\u001b[0m \u001b[0margs\u001b[0m\u001b[0;34m[\u001b[0m\u001b[0;36m1\u001b[0m\u001b[0;34m:\u001b[0m\u001b[0;34m]\u001b[0m\u001b[0;34m\u001b[0m\u001b[0;34m\u001b[0m\u001b[0m\n\u001b[0;32m--> 216\u001b[0;31m             \u001b[0;32myield\u001b[0m \u001b[0;32mfrom\u001b[0m \u001b[0mself\u001b[0m\u001b[0;34m.\u001b[0m\u001b[0m_plot_args\u001b[0m\u001b[0;34m(\u001b[0m\u001b[0mthis\u001b[0m\u001b[0;34m,\u001b[0m \u001b[0mkwargs\u001b[0m\u001b[0;34m)\u001b[0m\u001b[0;34m\u001b[0m\u001b[0;34m\u001b[0m\u001b[0m\n\u001b[0m\u001b[1;32m    217\u001b[0m \u001b[0;34m\u001b[0m\u001b[0m\n\u001b[1;32m    218\u001b[0m     \u001b[0;32mdef\u001b[0m \u001b[0mget_next_color\u001b[0m\u001b[0;34m(\u001b[0m\u001b[0mself\u001b[0m\u001b[0;34m)\u001b[0m\u001b[0;34m:\u001b[0m\u001b[0;34m\u001b[0m\u001b[0;34m\u001b[0m\u001b[0m\n",
      "\u001b[0;32m~/.local/lib/python3.6/site-packages/matplotlib/axes/_base.py\u001b[0m in \u001b[0;36m_plot_args\u001b[0;34m(self, tup, kwargs)\u001b[0m\n\u001b[1;32m    340\u001b[0m \u001b[0;34m\u001b[0m\u001b[0m\n\u001b[1;32m    341\u001b[0m         \u001b[0;32mif\u001b[0m \u001b[0mx\u001b[0m\u001b[0;34m.\u001b[0m\u001b[0mshape\u001b[0m\u001b[0;34m[\u001b[0m\u001b[0;36m0\u001b[0m\u001b[0;34m]\u001b[0m \u001b[0;34m!=\u001b[0m \u001b[0my\u001b[0m\u001b[0;34m.\u001b[0m\u001b[0mshape\u001b[0m\u001b[0;34m[\u001b[0m\u001b[0;36m0\u001b[0m\u001b[0;34m]\u001b[0m\u001b[0;34m:\u001b[0m\u001b[0;34m\u001b[0m\u001b[0;34m\u001b[0m\u001b[0m\n\u001b[0;32m--> 342\u001b[0;31m             raise ValueError(f\"x and y must have same first dimension, but \"\n\u001b[0m\u001b[1;32m    343\u001b[0m                              f\"have shapes {x.shape} and {y.shape}\")\n\u001b[1;32m    344\u001b[0m         \u001b[0;32mif\u001b[0m \u001b[0mx\u001b[0m\u001b[0;34m.\u001b[0m\u001b[0mndim\u001b[0m \u001b[0;34m>\u001b[0m \u001b[0;36m2\u001b[0m \u001b[0;32mor\u001b[0m \u001b[0my\u001b[0m\u001b[0;34m.\u001b[0m\u001b[0mndim\u001b[0m \u001b[0;34m>\u001b[0m \u001b[0;36m2\u001b[0m\u001b[0;34m:\u001b[0m\u001b[0;34m\u001b[0m\u001b[0;34m\u001b[0m\u001b[0m\n",
      "\u001b[0;31mValueError\u001b[0m: x and y must have same first dimension, but have shapes (48,) and (240,)"
     ]
    },
    {
     "data": {
      "image/png": "[encoded data removed]",
      "text/plain": [
       "<Figure size 432x288 with 1 Axes>"
      ]
     },
     "metadata": {},
     "output_type": "display_data"
    }
   ],
   "source": [
    "plt.plot(depth_range, rf_sel.cv_results_[\"mean_test_score\"], label=\"Selected Attributes Tree\")\n",
    "plt.plot(depth_range, rf_all.cv_results_[\"mean_test_score\"], label=\"All Attributes Tree\")\n",
    "plt.xlabel(\"Tree Depth\")\n",
    "plt.ylabel(\"Classification Efficiency\")\n",
    "plt.title(\"Classification Efficiency vs Tree Depth\")\n",
    "plt.legend(loc=\"center right\")\n",
    "plt.show()"
   ]
  },
  {
   "cell_type": "markdown",
   "metadata": {},
   "source": [
    "Worryingly it appears that neither tree performs better than random guessing. It is very clear that the selected attributes tree performs worse than the all attributes tree, which was to be expected. It is also clear that the classification efficiency of both trees declines dramatically with depth, which was also to be expected as very deep trees are much more likely to be overfitted than shallower trees. Let's use  the optimum depth for both trees to build them, visualise them and compare them!"
   ]
  },
  {
   "cell_type": "code",
   "execution_count": 171,
   "metadata": {},
   "outputs": [
    {
     "data": {
      "text/plain": [
       "DecisionTreeClassifier(max_depth=4, random_state=1)"
      ]
     },
     "execution_count": 171,
     "metadata": {},
     "output_type": "execute_result"
    }
   ],
   "source": [
    "sel_max_depth = rf_sel.best_params_[\"max_depth\"]\n",
    "all_max_depth = rf_all.best_params_[\"max_depth\"]\n",
    "\n",
    "tree_sel = tree.DecisionTreeClassifier(random_state=1, max_depth=sel_max_depth)\n",
    "tree_all = tree.DecisionTreeClassifier(random_state=1, max_depth=all_max_depth)\n",
    "\n",
    "# Set class names for visualisation\n",
    "cn = [\"<=50K\", \">50K\"]\n",
    "\n",
    "tree_sel.fit(x_sel, y)\n",
    "tree_all.fit(x_all, y)"
   ]
  },
  {
   "cell_type": "code",
   "execution_count": 174,
   "metadata": {},
   "outputs": [
    {
     "data": {
      "text/plain": [
       "'dtree_render.pdf'"
      ]
     },
     "execution_count": 174,
     "metadata": {},
     "output_type": "execute_result"
    }
   ],
   "source": [
    "# Visualise the selected tree\n",
    "dot_data = tree.export_graphviz(tree_sel, out_file=None, feature_names=x_sel.columns, filled=True, rounded=True, class_names=cn) \n",
    "graph = graphviz.Source(dot_data)  \n",
    "graph.render('dtree_render',view=True)"
   ]
  },
  {
   "cell_type": "code",
   "execution_count": 173,
   "metadata": {},
   "outputs": [
    {
     "data": {
      "text/plain": [
       "'dtree_render.pdf'"
      ]
     },
     "execution_count": 173,
     "metadata": {},
     "output_type": "execute_result"
    }
   ],
   "source": [
    "# Visualise the all attributes tree\n",
    "dot_data = tree.export_graphviz(tree_all, out_file=None, feature_names=x_all.columns, filled=True, rounded=True, class_names=cn) \n",
    "graph = graphviz.Source(dot_data)  \n",
    "graph.render('dtree_render',view=True)\n"
   ]
  },
  {
   "cell_type": "code",
   "execution_count": 175,
   "metadata": {},
   "outputs": [],
   "source": [
    "dummy_df.to_csv(\"out.csv\", index=False)"
   ]
  },
  {
   "cell_type": "code",
   "execution_count": 176,
   "metadata": {},
   "outputs": [],
   "source": [
    "discrete_df.to_csv(\"out2.csv\", index=False)"
   ]
  },
  {
   "cell_type": "code",
   "execution_count": null,
   "metadata": {},
   "outputs": [],
   "source": []
  }
 ],
 "metadata": {
  "kernelspec": {
   "display_name": "Python 3",
   "language": "python",
   "name": "python3"
  },
  "language_info": {
   "codemirror_mode": {
    "name": "ipython",
    "version": 3
   },
   "file_extension": ".py",
   "mimetype": "text/x-python",
   "name": "python",
   "nbconvert_exporter": "python",
   "pygments_lexer": "ipython3",
   "version": "3.6.9"
  }
 },
 "nbformat": 4,
 "nbformat_minor": 2
}
